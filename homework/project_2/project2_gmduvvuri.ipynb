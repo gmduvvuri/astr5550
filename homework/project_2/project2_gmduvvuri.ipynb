{
 "cells": [
  {
   "cell_type": "code",
   "execution_count": 1,
   "metadata": {},
   "outputs": [],
   "source": [
    "import numpy as np\n",
    "import matplotlib.pyplot as plt\n",
    "import seaborn as sns\n",
    "from astropy.io import fits\n",
    "from scipy.optimize import curve_fit\n",
    "from scipy.stats import chi2\n",
    "plt.rc('font', family='serif')\n",
    "plt.rc('text', usetex=True)"
   ]
  },
  {
   "cell_type": "code",
   "execution_count": 2,
   "metadata": {},
   "outputs": [],
   "source": [
    "base_str = 'z2r50205t_c'\n",
    "suffix_str = 'f.fits'\n",
    "fnames = [base_str + str(i) + suffix_str for i in range(0, 6)]\n",
    "hdu_list = [fits.open(fname) for fname in fnames]\n",
    "all_waves = [hdu_list[0][0].data[i, :] for i in [0, 4, 8, 12]]\n",
    "all_exposure_means = [np.mean(hdu_list[1][0].data[i:i+4, :],\n",
    "                              axis=0)\n",
    "                      for i in [0, 4, 8, 12]]\n",
    "all_exposure_sigmas = [np.sqrt((np.mean((hdu_list[2][0].data[i:i+4,\n",
    "                                                             :])**2.0,\n",
    "                                        axis=0))/4.0)\n",
    "                      for i in [0, 4, 8, 12]]"
   ]
  },
  {
   "cell_type": "code",
   "execution_count": 3,
   "metadata": {},
   "outputs": [],
   "source": [
    "def cross_correlate(f, g):\n",
    "    return np.array([np.sum(f*np.roll(g, -(n)))\n",
    "                     for n in range(0, len(f))])\n",
    "\n",
    "corr_1 = np.argmax(cross_correlate(all_exposure_means[0],\n",
    "                                   all_exposure_means[1]))\n",
    "corr_2 = np.argmax(cross_correlate(all_exposure_means[0],\n",
    "                                   all_exposure_means[2]))\n",
    "corr_3 = np.argmax(cross_correlate(all_exposure_means[0],\n",
    "                                   all_exposure_means[3]))\n",
    "\n",
    "all_waves[1] = np.roll(all_waves[1], -(corr_1))\n",
    "all_waves[2] = np.roll(all_waves[2], -(corr_2))\n",
    "all_waves[3] = np.roll(all_waves[3], -(corr_3))\n",
    "\n",
    "all_exposure_means[1] = np.roll(all_exposure_means[1], -(corr_1))\n",
    "all_exposure_means[2] = np.roll(all_exposure_means[2], -(corr_2))\n",
    "all_exposure_means[3] = np.roll(all_exposure_means[3], -(corr_3))\n",
    "\n",
    "all_exposure_sigmas[1] = np.roll(all_exposure_sigmas[1], -(corr_1))\n",
    "all_exposure_sigmas[2] = np.roll(all_exposure_sigmas[2], -(corr_2))\n",
    "all_exposure_sigmas[3] = np.roll(all_exposure_sigmas[3], -(corr_3))\n",
    "\n",
    "wave = all_waves[0]\n",
    "flux = np.mean(np.array(all_exposure_means), axis=0)\n",
    "variances = np.mean(np.array(all_exposure_sigmas)**2.0, axis=0)/4.\n",
    "sigmas = np.sqrt(variances)"
   ]
  },
  {
   "cell_type": "code",
   "execution_count": 4,
   "metadata": {},
   "outputs": [
    {
     "data": {
      "image/png": "[encoded data removed]",
      "text/plain": [
       "<Figure size 432x288 with 1 Axes>"
      ]
     },
     "metadata": {},
     "output_type": "display_data"
    },
    {
     "name": "stdout",
     "output_type": "stream",
     "text": [
      "SNR in Continuum =  1.15023e-14\n",
      "SNR in Line =  10.8592\n",
      "Poisson-predicted SNR:  1.45705e-14\n"
     ]
    }
   ],
   "source": [
    "low1=490\n",
    "high1=545\n",
    "wave_1 = wave[low1:high1]\n",
    "flux_1 = flux[low1:high1]\n",
    "sigma_1 = sigmas[low1:high1]\n",
    "cut_index = np.arange(5, 45)\n",
    "fit_1 = np.polyfit(np.delete(wave_1, cut_index),\n",
    "                   np.delete(flux_1, cut_index), 2)\n",
    "\n",
    "plt.errorbar(wave_1, flux_1, yerr=sigma_1,\n",
    "             alpha=0.5, fmt='.k')\n",
    "plt.plot(wave_1, np.polyval(fit_1, wave_1))\n",
    "plt.show()\n",
    "\n",
    "signal_continuum = np.var(np.delete(flux_1, cut_index))\n",
    "noise_continuum = np.mean(np.delete(sigma_1, cut_index))\n",
    "noise_line = np.mean(sigma_1[cut_index])\n",
    "signal_line = np.mean(np.delete(flux_1, cut_index)) - np.min(flux_1)\n",
    "\n",
    "print('SNR in Continuum = ',\n",
    "      signal_continuum/noise_continuum)\n",
    "print('SNR in Line = ',\n",
    "      signal_line/noise_line)\n",
    "print('Poisson-predicted SNR: ', np.sqrt(signal_continuum))"
   ]
  },
  {
   "cell_type": "code",
   "execution_count": 5,
   "metadata": {},
   "outputs": [
    {
     "data": {
      "image/png": "[encoded data removed]",
      "text/plain": [
       "<Figure size 432x288 with 1 Axes>"
      ]
     },
     "metadata": {},
     "output_type": "display_data"
    },
    {
     "name": "stdout",
     "output_type": "stream",
     "text": [
      "SNR in Continuum =  2.16693e-14\n",
      "SNR in Line =  7.84115\n",
      "Poisson-predicted SNR:  2.01523e-14\n"
     ]
    }
   ],
   "source": [
    "low2=1450\n",
    "high2=1505\n",
    "wave_2 = wave[low2:high2]\n",
    "flux_2 = flux[low2:high2]\n",
    "sigma_2 = sigmas[low2:high2]\n",
    "\n",
    "fit_2 = np.polyfit(np.delete(wave_2, cut_index),\n",
    "                   np.delete(flux_2, cut_index), 2)\n",
    "plt.errorbar(wave_2, flux_2, yerr=sigma_2,\n",
    "             alpha=0.5, fmt='.k')\n",
    "plt.plot(wave_2, np.polyval(fit_2, wave_2))\n",
    "plt.show()\n",
    "\n",
    "signal_continuum = np.var(np.delete(flux_2, cut_index))\n",
    "noise_continuum = np.mean(np.delete(sigma_2, cut_index))\n",
    "noise_line = np.mean(sigma_2[cut_index])\n",
    "signal_line = np.mean(np.delete(flux_2, cut_index)) - np.min(flux_2)\n",
    "\n",
    "print('SNR in Continuum = ',\n",
    "      signal_continuum/noise_continuum)\n",
    "print('SNR in Line = ',\n",
    "      signal_line/noise_line)\n",
    "print('Poisson-predicted SNR: ', np.sqrt(signal_continuum))"
   ]
  },
  {
   "cell_type": "code",
   "execution_count": 6,
   "metadata": {},
   "outputs": [],
   "source": [
    "normflux_1 = flux_1/np.polyval(fit_1, wave_1)\n",
    "normsigma_1 = sigma_1/np.polyval(fit_1, wave_1)\n",
    "\n",
    "normflux_2 = flux_2/np.polyval(fit_2, wave_2)\n",
    "normsigma_2 = sigma_2/np.polyval(fit_2, wave_2)"
   ]
  },
  {
   "cell_type": "code",
   "execution_count": 7,
   "metadata": {},
   "outputs": [],
   "source": [
    "def wave2vel(wave, clambda):\n",
    "    dellambda = wave - clambda\n",
    "    lightvel = 299792.458\n",
    "    vel = dellambda*lightvel/clambda\n",
    "    return vel\n",
    "\n",
    "\n",
    "def vel2wave(vel, clambda):\n",
    "    lightvel = 299792.458\n",
    "    wave = clambda*(1.0 + vel/lightvel)\n",
    "    return wave\n",
    "\n",
    "\n",
    "def model_gaussian(x, amp, width, mean, offset):\n",
    "    exp_factor = -((x - mean)**2.0)/(2.0*(width**2.0))\n",
    "    return offset + amp*np.exp(exp_factor)\n",
    "\n",
    "\n",
    "def fit_chi2(init_guess,\n",
    "             x, y, yerr,\n",
    "             model_func=model_gaussian):\n",
    "    popt, pcov = curve_fit(model_func, x, y,\n",
    "                          p0=init_guess, sigma=yerr,\n",
    "                          absolute_sigma=True,\n",
    "                          method='lm')\n",
    "    return popt, pcov\n",
    "\n",
    "clambda_1 = 2796.352\n",
    "clambda_2 = 2803.531\n",
    "\n",
    "osc_strength_1 = 0.6123\n",
    "osc_strength_2 = 0.3054\n",
    "\n",
    "vel_1 = wave2vel(wave_1, clambda_1)\n",
    "vel_2 = wave2vel(wave_2, clambda_2)\n",
    "label_strs = ['Amplitude', 'Line Width', 'Line Position']\n",
    "unit_strs = [' ', ' Angstroms', ' Angstroms']\n",
    "unit_strs_v = [' ', 'km/s', 'km/s']"
   ]
  },
  {
   "cell_type": "code",
   "execution_count": 8,
   "metadata": {},
   "outputs": [
    {
     "data": {
      "image/png": "[encoded data removed]",
      "text/plain": [
       "<Figure size 432x288 with 1 Axes>"
      ]
     },
     "metadata": {},
     "output_type": "display_data"
    },
    {
     "name": "stdout",
     "output_type": "stream",
     "text": [
      "Amplitude  =  -0.802808026035  +/-  0.027107065214  \n",
      "Line Width  =  0.0260818203686  +/-  0.00137147718823  Angstroms\n",
      "Line Position  =  2796.29408394  +/-  0.00116285572382  Angstroms\n"
     ]
    }
   ],
   "source": [
    "init_1 = [-0.8, 0.03, 2796.3, 1.0]\n",
    "popt_1, pcov_1 = fit_chi2(init_1, wave_1, normflux_1, normsigma_1)\n",
    "\n",
    "amp_1 = popt_1[0]\n",
    "width_1 = popt_1[1]\n",
    "mean_1 = popt_1[2]\n",
    "offset_1 = popt_1[3]\n",
    "\n",
    "plt.errorbar(wave_1, normflux_1, yerr=normsigma_1,\n",
    "             alpha=0.5, fmt='.k')\n",
    "plt.plot(wave_1,\n",
    "         model_gaussian(wave_1,\n",
    "                        amp_1, width_1, mean_1, offset_1),\n",
    "         '--b')\n",
    "plt.show()\n",
    "uncertainties_1 = [np.sqrt(pcov_1[i, i]) for i in range(0, 4)]\n",
    "for i in range(0, 3):\n",
    "    print(label_strs[i],\n",
    "          ' = ', str(popt_1[i]), ' +/- ',\n",
    "          str(uncertainties_1[i]), unit_strs[i])"
   ]
  },
  {
   "cell_type": "code",
   "execution_count": 9,
   "metadata": {},
   "outputs": [
    {
     "data": {
      "image/png": "[encoded data removed]",
      "text/plain": [
       "<Figure size 432x288 with 1 Axes>"
      ]
     },
     "metadata": {},
     "output_type": "display_data"
    },
    {
     "name": "stdout",
     "output_type": "stream",
     "text": [
      "Amplitude  =  -0.637258107739  +/-  0.0315587749567  \n",
      "Line Width  =  0.0251161456843  +/-  0.0017670797029  Angstroms\n",
      "Line Position  =  2803.48058994  +/-  0.00155993777898  Angstroms\n"
     ]
    }
   ],
   "source": [
    "init_2 = [-0.6, 0.03, 2803.45, 1.0]\n",
    "popt_2, pcov_2 = fit_chi2(init_2, wave_2, normflux_2, normsigma_2)\n",
    "\n",
    "amp_2 = popt_2[0]\n",
    "width_2 = popt_2[1]\n",
    "mean_2 = popt_2[2]\n",
    "offset_2 = popt_2[3]\n",
    "\n",
    "plt.errorbar(wave_2, normflux_2, yerr=normsigma_2,\n",
    "             alpha=0.5, fmt='.k')\n",
    "plt.plot(wave_2,\n",
    "         model_gaussian(wave_2,\n",
    "                        amp_2, width_2, mean_2, offset_2),\n",
    "         '--b')\n",
    "plt.show()\n",
    "uncertainties_2 = [np.sqrt(pcov_2[i, i]) for i in range(0, 4)]\n",
    "for i in range(0, 3):\n",
    "    print(label_strs[i],\n",
    "          ' = ', str(popt_2[i]), ' +/- ',\n",
    "          str(uncertainties_2[i]), unit_strs[i])"
   ]
  },
  {
   "cell_type": "code",
   "execution_count": 10,
   "metadata": {},
   "outputs": [
    {
     "data": {
      "image/png": "[encoded data removed]",
      "text/plain": [
       "<Figure size 432x288 with 1 Axes>"
      ]
     },
     "metadata": {},
     "output_type": "display_data"
    },
    {
     "name": "stdout",
     "output_type": "stream",
     "text": [
      "Amplitude  =  -0.80280817807  +/-  0.0271071540671  \n",
      "Line Width  =  2.796187576  +/-  0.147040691426 km/s\n",
      "Line Position  =  -6.20909089755  +/-  0.124671926638 km/s\n"
     ]
    }
   ],
   "source": [
    "init_1v = [-0.8, 3.0, -9, 1.0]\n",
    "popt_1v, pcov_1v = fit_chi2(init_1v, vel_1, normflux_1, normsigma_1)\n",
    "\n",
    "amp_1v = popt_1v[0]\n",
    "width_1v = popt_1v[1]\n",
    "mean_1v = popt_1v[2]\n",
    "offset_1v = popt_1v[3]\n",
    "\n",
    "plt.errorbar(vel_1, normflux_1, yerr=normsigma_1,\n",
    "             alpha=0.5, fmt='.k')\n",
    "plt.plot(vel_1,\n",
    "         model_gaussian(vel_1,\n",
    "                        amp_1v, width_1v, mean_1v, offset_1v),\n",
    "         '--b')\n",
    "plt.show()\n",
    "uncertainties_1v = [np.sqrt(pcov_1v[i, i]) for i in range(0, 4)]\n",
    "for i in range(0, 3):\n",
    "    print(label_strs[i],\n",
    "          ' = ', str(popt_1v[i]), ' +/- ',\n",
    "          str(uncertainties_1v[i]), unit_strs_v[i])"
   ]
  },
  {
   "cell_type": "code",
   "execution_count": 11,
   "metadata": {},
   "outputs": [
    {
     "data": {
      "image/png": "[encoded data removed]",
      "text/plain": [
       "<Figure size 432x288 with 1 Axes>"
      ]
     },
     "metadata": {},
     "output_type": "display_data"
    },
    {
     "name": "stdout",
     "output_type": "stream",
     "text": [
      "Amplitude  =  -0.637264248838  +/-  0.0315569389818  \n",
      "Line Width  =  2.68565750565  +/-  0.188997785569 km/s\n",
      "Line Position  =  -5.39055241621  +/-  0.166839399168 km/s\n"
     ]
    }
   ],
   "source": [
    "init_2v = [-0.8, 3.0, -7, 1.0]\n",
    "popt_2v, pcov_2v = fit_chi2(init_2v, vel_2, normflux_2, normsigma_2)\n",
    "\n",
    "amp_2v = popt_2v[0]\n",
    "width_2v = popt_2v[1]\n",
    "mean_2v = popt_2v[2]\n",
    "offset_2v = popt_2v[3]\n",
    "\n",
    "plt.errorbar(vel_2, normflux_2, yerr=normsigma_2,\n",
    "             alpha=0.5, fmt='.k')\n",
    "plt.plot(vel_2,\n",
    "         model_gaussian(vel_2,\n",
    "                        amp_2v, width_2v, mean_2v, offset_2v),\n",
    "         '--b')\n",
    "plt.show()\n",
    "uncertainties_2v = [np.sqrt(pcov_2v[i, i]) for i in range(0, 4)]\n",
    "for i in range(0, 3):\n",
    "    print(label_strs[i],\n",
    "          ' = ', str(popt_2v[i]), ' +/- ',\n",
    "          str(uncertainties_2v[i]), unit_strs_v[i])"
   ]
  },
  {
   "cell_type": "code",
   "execution_count": 12,
   "metadata": {},
   "outputs": [
    {
     "name": "stdout",
     "output_type": "stream",
     "text": [
      "PTE =  0.000442626261109\n"
     ]
    }
   ],
   "source": [
    "chi2_lines = (((mean_1v - mean_2v)**2.0)/\n",
    "              ((uncertainties_1v[2]**2.0\n",
    "                + uncertainties_2v[2]**2.0)))\n",
    "print('PTE = ', chi2.sf(chi2_lines, 2))"
   ]
  },
  {
   "cell_type": "markdown",
   "metadata": {},
   "source": [
    "FWHM resolution = 3.7 pixels (we are resolved)"
   ]
  },
  {
   "cell_type": "code",
   "execution_count": 13,
   "metadata": {},
   "outputs": [
    {
     "name": "stdout",
     "output_type": "stream",
     "text": [
      "EW for 2796:  -0.0470837726235  +/- 0.00318504117203  (Analytic)  or  0.00216907090728  (Sampling)\n",
      "EW for 2803:  -0.0324514550265  +/- 0.00321429995855  (Analytic)  or  0.00196068212832  (Sampling)\n"
     ]
    }
   ],
   "source": [
    "ew_1 = np.sum(normflux_1[cut_index][10:-8]-1.0)*np.mean(np.diff(wave_1[cut_index][10:-8]))\n",
    "ew_2 = np.sum(normflux_2[cut_index][14:-8]-1.0)*np.mean(np.diff(wave_2[cut_index][14:-8]))\n",
    "\n",
    "\n",
    "term_1_1 = ((ew_1/amp_1)*(uncertainties_1[0]))**2.0\n",
    "term_1_2 = ((ew_2/amp_2)*(uncertainties_2[0]))**2.0\n",
    "\n",
    "term_2_1 = ((amp_1/(width_1**3.0))*0.000044474*uncertainties_1[1])**2.0\n",
    "term_2_2 = ((amp_2/(width_2**3.0))*0.0000391661*uncertainties_2[1])**2.0\n",
    "\n",
    "ew_1_analytic = np.sqrt(term_1_1 + term_2_1)\n",
    "ew_2_analytic = np.sqrt(term_1_2 + term_2_2)\n",
    "\n",
    "wave_del = np.delete(wave, np.append(cut_index+low1, cut_index+low2))\n",
    "flux_del = np.delete(flux, np.append(cut_index+low1, cut_index+low2))\n",
    "normflux_del = flux_del/(np.polyval(np.polyfit(wave_del, flux_del, 2),\n",
    "                                   wave_del))\n",
    "\n",
    "\n",
    "ew_1_sample = np.std([np.sum(normflux_del[i:i+18]*\n",
    "                             np.mean(np.diff(wave_del[i:i+18])))\n",
    "                       for i in [0, 200, 300, 400]])\n",
    "\n",
    "ew_2_sample = np.std([np.sum(normflux_del[i:i+22]*\n",
    "                             np.mean(np.diff(wave_del[i:i+22])))\n",
    "                       for i in [0, 200, 300, 400]])\n",
    "\n",
    "print('EW for 2796: ', ew_1, ' +/-',\n",
    "      ew_1_analytic,\n",
    "      ' (Analytic) ', 'or ', ew_1_sample, ' (Sampling)')\n",
    "\n",
    "print('EW for 2803: ', ew_2, ' +/-',\n",
    "      ew_2_analytic,\n",
    "      ' (Analytic) ', 'or ', ew_2_sample, ' (Sampling)')"
   ]
  },
  {
   "cell_type": "markdown",
   "metadata": {},
   "source": [
    "Analytic integral 1 EW = -0.052485519606\n",
    "\n",
    "Analytic integral 2 EW = -0.040119622083 "
   ]
  },
  {
   "cell_type": "code",
   "execution_count": null,
   "metadata": {},
   "outputs": [],
   "source": []
  }
 ],
 "metadata": {
  "kernelspec": {
   "display_name": "Python 3",
   "language": "python",
   "name": "python3"
  },
  "language_info": {
   "codemirror_mode": {
    "name": "ipython",
    "version": 3
   },
   "file_extension": ".py",
   "mimetype": "text/x-python",
   "name": "python",
   "nbconvert_exporter": "python",
   "pygments_lexer": "ipython3",
   "version": "3.5.5"
  }
 },
 "nbformat": 4,
 "nbformat_minor": 2
}
