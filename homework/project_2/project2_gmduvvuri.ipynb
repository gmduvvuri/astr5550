{
 "cells": [
  {
   "cell_type": "code",
   "execution_count": 1,
   "metadata": {
    "collapsed": true
   },
   "outputs": [],
   "source": [
    "import numpy as np\n",
    "import matplotlib.pyplot as plt\n",
    "import seaborn as sns\n",
    "from astropy.io import fits\n"
   ]
  },
  {
   "cell_type": "code",
   "execution_count": 7,
   "metadata": {},
   "outputs": [
    {
     "name": "stdout",
     "output_type": "stream",
     "text": [
      "[array([ 2792.38625404,  2792.39387204,  2792.40148979, ...,  2807.30055332,\n",
      "        2807.3078941 ,  2807.31523656]), array([ 2792.24470324,  2792.25232244,  2792.2599414 , ...,  2807.16143423,\n",
      "        2807.16877625,  2807.17611996]), array([ 2792.10312681,  2792.11074721,  2792.11836737, ...,  2807.02228934,\n",
      "        2807.0296326 ,  2807.03697754]), array([ 2791.96152474,  2791.96914634,  2791.97676771, ...,  2806.88311864,\n",
      "        2806.89046314,  2806.89780933])]\n",
      "[array([  2.39645651e-13,   2.79415949e-13,   1.00625088e-13, ...,\n",
      "         2.52289292e-13,   1.69968464e-13,   2.58187325e-13], dtype=float32), array([  1.82006753e-13,   2.61510757e-13,   2.41676742e-13, ...,\n",
      "         2.71729498e-13,   1.83561255e-13,   2.42354314e-13], dtype=float32), array([  2.58841749e-13,   1.59524480e-13,   1.59549037e-13, ...,\n",
      "         2.27898863e-13,   2.27906561e-13,   1.98531702e-13], dtype=float32), array([  1.99360995e-13,   2.19263762e-13,   1.59669316e-13, ...,\n",
      "         1.75052789e-13,   1.22190913e-13,   1.98562344e-13], dtype=float32)]\n"
     ]
    }
   ],
   "source": [
    "base_str = 'z2r50205t_c'\n",
    "suffix_str = 'f.fits'\n",
    "fnames = [base_str + str(i) + suffix_str for i in range(0, 6)]\n",
    "hdu_list = [fits.open(fname) for fname in fnames]\n",
    "all_waves = [hdu_list[0][0].data[i, :] for i in [0, 4, 8, 12]]\n",
    "all_exposure_means = [np.mean(hdu_list[1][0].data[i:i+4, :], axis=0) for i in [0, 4, 8, 12]]\n",
    "print(all_waves)\n",
    "print(all_exposure_means)"
   ]
  },
  {
   "cell_type": "code",
   "execution_count": null,
   "metadata": {
    "collapsed": true
   },
   "outputs": [],
   "source": []
  }
 ],
 "metadata": {
  "kernelspec": {
   "display_name": "astroconda",
   "language": "python",
   "name": "astroconda"
  },
  "language_info": {
   "codemirror_mode": {
    "name": "ipython",
    "version": 3
   },
   "file_extension": ".py",
   "mimetype": "text/x-python",
   "name": "python",
   "nbconvert_exporter": "python",
   "pygments_lexer": "ipython3",
   "version": "3.5.4"
  }
 },
 "nbformat": 4,
 "nbformat_minor": 2
}
