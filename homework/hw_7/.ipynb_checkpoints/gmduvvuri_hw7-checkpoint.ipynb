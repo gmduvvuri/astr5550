{
 "cells": [
  {
   "cell_type": "markdown",
   "metadata": {},
   "source": [
    "# Problem 1"
   ]
  },
  {
   "cell_type": "markdown",
   "metadata": {},
   "source": [
    "## a)\n",
    "\n",
    "$P(N_k | D_k) = \\frac{e^{-D_k}D_k^{N_k}}{N_k!}$\n",
    "\n",
    "## b)\n",
    "\n",
    "$\\mathcal{L}(A, B) = \\prod_k^K  \\frac{e^{-D_k}D_k^{N_k}}{N_k!}$ assuming measurements in each bin are independent.\n",
    "\n",
    "## c)\n",
    "\n",
    "$0 = \\frac{\\partial \\ln{\\left(\\mathcal{L}(A, B)\\right)}}{\\partial A} = \\sum_k^K -\\delta_{kl} + \\frac{N_k}{D_k}\\delta_{kl} = \\frac{N_l}{A + B} - 1$\n",
    "\n",
    "$\\implies \\hat{A} + \\hat{B} = N_l$\n",
    "\n",
    "$0 = \\frac{\\partial \\ln{\\left(\\mathcal{L}(A, B)\\right)}}{\\partial B} = \\sum_k^K -1 + \\frac{N_k}{D_k} = \\frac{N_l}{A + B} - K  + \\sum_{k\\neq l} \\frac{N_k}{B} \\implies \\sum_{k\\neq l} \\frac{N_k}{B} = K - 1$\n",
    "\n",
    "$\\implies \\boxed{\\hat{B} = \\sum_{k\\neq l} \\frac{N_k}{K - 1}, \\hat{A} = N_l - \\sum_{k\\neq l} \\frac{N_k}{K - 1}}$\n",
    "\n",
    "This simply means that $\\hat{B}$ is the mean of all bins where we know the signal will be absent. Similarly, $\\hat{A}$ is given by subtracting our best guess for the noise ($\\hat{B}$) from the photons in the bin known to include the signal ($N_l$).\n",
    ".\n",
    "## d)\n",
    "\n",
    "$\\mathcal{F_{ij}} = -\\frac{\\partial^2 \\ln{\\left(\\mathcal{L}\\right)}}{\\partial i \\partial j}$\n",
    "\n",
    "$-\\frac{\\partial^2 \\ln{\\left(\\mathcal{L}\\right)}}{\\partial A \\partial B} = \\sum_k^K \\frac{N_k \\delta_{kl}}{D_k^2} = \\frac{N_l}{(A + B)^2}$\n",
    "\n",
    "$-\\frac{\\partial^2 \\ln{\\left(\\mathcal{L}\\right)}}{\\partial^2 A} = \\sum_k^K \\frac{N_k \\delta_{kl}^2}{D_k^2} = \\frac{N_l}{(A + B)^2}$\n",
    "\n",
    "$-\\frac{\\partial^2 \\ln{\\left(\\mathcal{L}\\right)}}{\\partial^2 B} = \\sum_k^K \\frac{N_k }{D_k^2}$\n",
    "\n",
    "$\\hat{\\mathcal{F}} = \\begin{pmatrix} \\frac{N_l}{(A + B)^2} & \\frac{N_l}{(A + B)^2} \\\\ \\frac{N_l}{(A + B)^2} & \\sum_k^K \\frac{N_k }{D_k^2} \\end{pmatrix}$\n",
    "\n",
    "## e)\n",
    "\n",
    "$\\hat{\\mathcal{C}} = \\hat{\\mathcal{F}}^{-1} = \\frac{1}{\\frac{N_l}{(A+B)^2}\\sum_{k \\neq l} \\frac{N_k}{B^2}} \\begin{pmatrix}  \\sum_k^K \\frac{N_k }{D_k^2} & -\\frac{N_l}{(A + B)^2} \\\\ -\\frac{N_l}{(A + B)^2} & \\frac{N_l}{(A + B)^2} \\end{pmatrix}$\n",
    "\n",
    "Evaluating this at $\\hat{A}$ and $\\hat{B}$ gives:\n",
    "$\\hat{\\mathcal{C}} = \\begin{pmatrix}  \\left(\\sum_{k \\neq l} \\frac{N_k }{(K-1)^2}\\right)\\left(1 + \\sum_{k \\neq l} \\frac{N_k N_l}{(K-1)^2}\\right) & -\\sum_{k \\neq l} \\frac{N_k }{(K-1)^2} \\\\ -\\sum_{k \\neq l} \\frac{N_k }{(K-1)^2} & \\sum_{k \\neq l} \\frac{N_k }{(K-1)^2} \\end{pmatrix}$\n",
    "\n",
    "\n",
    "## f)\n",
    "\n",
    "$\\sigma^2_A$ and $\\sigma_B^2$ resemble Poisson statistics, although the $\\sigma^2_A$ term is a sum of different Poisson variances.\n",
    "\n",
    "## g)\n",
    "\n",
    "Yes, the two parameter estimators are correlated. This makes sense since, given the data, any increase in the estimate for the noise would have to be compensated by decreasing the signal amplitude and vice-versa."
   ]
  },
  {
   "cell_type": "markdown",
   "metadata": {},
   "source": [
    "# Problem 2"
   ]
  },
  {
   "cell_type": "markdown",
   "metadata": {},
   "source": [
    "## a)"
   ]
  },
  {
   "cell_type": "markdown",
   "metadata": {},
   "source": [
    "$\\lambda_k = D_k \\times G$\n",
    "\n",
    "$D_k = \\frac{\\lambda_k}{G}$\n",
    "\n",
    "$\\sigma^2_{D_k} = \\frac{\\sigma^2_{\\textrm{RON}}}{G^2} + \\frac{D_k}{G}$\n",
    "\n",
    "$\\implies \\sigma_{D_k} = \\sqrt{\\frac{400}{G^2} + \\frac{D_k}{G}}$"
   ]
  },
  {
   "cell_type": "markdown",
   "metadata": {},
   "source": [
    "## b)"
   ]
  },
  {
   "cell_type": "markdown",
   "metadata": {},
   "source": [
    "$g(x_k , y_k ; \\vec{\\theta}) = B + A\\exp{\\left(-\\frac{\\left[(x_k - x_0)^2 + (y_k - y_0)^2\\right]}{2\\sigma^2}\\right)}$\n",
    "\n",
    "$\\mathcal{X}^2 = \\sum_k \\frac{\\left(D_k - g(x_k , y_k ; \\vec{\\theta})\\right)^2}{\\sigma_k^2}$\n",
    "\n",
    "$\\vec{\\theta} = \\left\\{A, B, x_0, y_0, \\sigma \\right\\}$"
   ]
  },
  {
   "cell_type": "markdown",
   "metadata": {},
   "source": [
    "## c)"
   ]
  },
  {
   "cell_type": "code",
   "execution_count": 1,
   "metadata": {},
   "outputs": [],
   "source": [
    "import numpy as np\n",
    "import matplotlib.pyplot as plt\n",
    "import seaborn as sns\n",
    "from scipy.optimize import leastsq as lmfitter\n",
    "from astropy.io import fits\n",
    "from scipy.stats import chi2\n",
    "from matplotlib.patches import Ellipse\n",
    "import matplotlib\n",
    "pgf_with_rc_fonts = {\"pgf.texsystem\": \"pdflatex\"}\n",
    "matplotlib.rcParams.update(pgf_with_rc_fonts)\n",
    "\n",
    "sns.set_style('darkgrid')\n",
    "sns.set_context('talk')\n",
    "plt.rc('text', usetex=True)\n",
    "plt.rc('font', family='serif')"
   ]
  },
  {
   "cell_type": "code",
   "execution_count": 2,
   "metadata": {},
   "outputs": [],
   "source": [
    "def read_data(fname='f61final.fits'):\n",
    "    hdulist = fits.open('f61final.fits')\n",
    "    img = hdulist[0].data\n",
    "    hdulist.close()\n",
    "    data = img[54:64, 136:146]\n",
    "    return data\n",
    "\n",
    "def get_noise(data, ron=0.0, gain=2.72):\n",
    "    term_1 = (ron**2.0)/(gain**2.0)\n",
    "    term_2 = data/gain\n",
    "    return np.sqrt(term_1 + term_2)\n",
    "\n",
    "def get_chi(theta, data, noise):\n",
    "    xx, yy = np.meshgrid(np.arange(len(data[0, :])), np.arange(len(data[:, 0])))\n",
    "    model = theta[1] + theta[0]*np.exp(-((xx - theta[2])**2.0\n",
    "                                         + (yy - theta[3])**2.0)/(2.0*(theta[4]**2.0)))\n",
    "    return np.array((model - data)/noise).flatten()"
   ]
  },
  {
   "cell_type": "code",
   "execution_count": 3,
   "metadata": {},
   "outputs": [
    {
     "data": {
      "image/png": "[encoded data removed]",
      "text/plain": [
       "<Figure size 432x288 with 2 Axes>"
      ]
     },
     "metadata": {},
     "output_type": "display_data"
    }
   ],
   "source": [
    "data = read_data()\n",
    "noise = get_noise(data)\n",
    "ax = sns.heatmap(data, cbar=True)\n",
    "ax.set_aspect('equal')\n",
    "plt.show()"
   ]
  },
  {
   "cell_type": "code",
   "execution_count": 4,
   "metadata": {},
   "outputs": [
    {
     "name": "stdout",
     "output_type": "stream",
     "text": [
      "A:  1701.35861152\n",
      "B:  115.708911681\n",
      "x_0 :  4.05321938613\n",
      "y_0:  4.15724597068\n",
      "sigma:  1.63370770012\n",
      "Minimum Chi^2:  1099.21506411\n",
      "PTE:  1.52679195144e-170\n",
      "Not a great fit\n"
     ]
    }
   ],
   "source": [
    "init_guess = np.array([1600.0, 200.0, 4.5, 4.5, 3.0])\n",
    "result = lmfitter(get_chi, init_guess, args=(data, noise), full_output=1)\n",
    "xx, yy = np.meshgrid(np.arange(len(data[0, :])), np.arange(len(data[:, 0])))\n",
    "final_theta = result[0]\n",
    "final_model = final_theta[1]\n",
    "final_model += final_theta[0]*np.exp(-((xx\n",
    "                                        - final_theta[2])**2.0\n",
    "                                       + (yy\n",
    "                                          - final_theta[3])**2.0)/\n",
    "                                     (2.0*(final_theta[4]**2.0)))\n",
    "min_chi2 =  np.sum(result[2]['fvec']**2.0)\n",
    "total_dof = len(data.flatten()) - len(final_theta)\n",
    "scale_factor = min_chi2/total_dof\n",
    "cov_matrix = result[1]* scale_factor\n",
    "print('A: ', final_theta[0])\n",
    "print('B: ', final_theta[1])\n",
    "print('x_0 : ', final_theta[2])\n",
    "print('y_0: ', final_theta[3])\n",
    "print('sigma: ', final_theta[4])\n",
    "print('Minimum Chi^2: ', min_chi2)\n",
    "print('PTE: ', chi2.sf(min_chi2, total_dof))\n",
    "print('Not a great fit')\n"
   ]
  },
  {
   "cell_type": "markdown",
   "metadata": {},
   "source": [
    "## d)"
   ]
  },
  {
   "cell_type": "code",
   "execution_count": 5,
   "metadata": {
    "scrolled": false
   },
   "outputs": [
    {
     "data": {
      "image/png": "[encoded data removed]",
      "text/plain": [
       "<Figure size 1152x1152 with 8 Axes>"
      ]
     },
     "metadata": {},
     "output_type": "display_data"
    },
    {
     "name": "stdout",
     "output_type": "stream",
     "text": [
      "Covariance matrix:  [[  1.23380256e+03   2.88813508e+01  -4.83313958e-03   2.81691230e-03\n",
      "   -4.79026779e-01]\n",
      " [  2.88813508e+01   1.80612862e+01  -1.61173671e-03  -1.27211254e-03\n",
      "   -5.29707277e-02]\n",
      " [ -4.83313958e-03  -1.61173671e-03   5.74173152e-04   3.66693177e-06\n",
      "    5.34049382e-06]\n",
      " [  2.81691230e-03  -1.27211254e-03   3.66693177e-06   6.55069164e-04\n",
      "    8.44577258e-07]\n",
      " [ -4.79026779e-01  -5.29707277e-02   5.34049382e-06   8.44577258e-07\n",
      "    3.92052081e-04]]\n"
     ]
    }
   ],
   "source": [
    "fig, ((ax_data, ax_model), (ax_residual, ax_chi2)) = plt.subplots(nrows=2,ncols=2,\n",
    "                                                                  figsize=(16, 16))\n",
    "\n",
    "sns.heatmap(data, square=True,\n",
    "            cbar=True, ax=ax_data,\n",
    "            cbar_kws={'label': r'$D_k$',\n",
    "                     \"shrink\": .82},\n",
    "           vmin=200.0, vmax=2000.0)\n",
    "sns.heatmap(final_model, square=True,\n",
    "            cbar=True, ax=ax_model,\n",
    "            cbar_kws={'label': r'$g(\\vec{\\theta})$',\n",
    "                     \"shrink\": .82},\n",
    "           vmin=200.0, vmax=2000.0)\n",
    "sns.heatmap(data - final_model, square=True,\n",
    "            cbar=True, ax=ax_residual,\n",
    "            cbar_kws={'label': r'$D_k - g$',\n",
    "                     \"shrink\": .82},\n",
    "           cmap='coolwarm',\n",
    "           center=0.0)\n",
    "chi2_contribution = ((data - final_model)/noise)**2.0\n",
    "sns.heatmap(chi2_contribution, square=True,\n",
    "            cbar=True, ax=ax_chi2,\n",
    "            cbar_kws={'label': r'$\\frac{(D_k - g)^2}{\\sigma_{D_k}^2}$',\n",
    "                     \"shrink\": .82})\n",
    "\n",
    "ax_data.set_title('Data')\n",
    "ax_model.set_title('Model')\n",
    "ax_residual.set_title('Residuals')\n",
    "ax_chi2.set_title(r'$\\mathcal{X}^2$ contribution')\n",
    "for ax in [ax_data, ax_model, ax_residual, ax_chi2]:\n",
    "    ax.set_xlabel(r'$x$')\n",
    "    ax.set_ylabel(r'$y$')\n",
    "plt.tight_layout()\n",
    "plt.show()\n",
    "\n",
    "print('Covariance matrix: ', cov_matrix)"
   ]
  },
  {
   "cell_type": "markdown",
   "metadata": {},
   "source": [
    "Looking at the residuals, a model that allows different widths along each dimension would work better. The $\\sigma_y$ appears greater than the $\\sigma_x$ and the outer edges along $x$ are overestimated."
   ]
  },
  {
   "cell_type": "markdown",
   "metadata": {},
   "source": [
    "## e)"
   ]
  },
  {
   "cell_type": "code",
   "execution_count": 6,
   "metadata": {},
   "outputs": [
    {
     "data": {
      "image/png": "[encoded data removed]",
      "text/plain": [
       "<Figure size 432x288 with 1 Axes>"
      ]
     },
     "metadata": {},
     "output_type": "display_data"
    },
    {
     "name": "stdout",
     "output_type": "stream",
     "text": [
      "0.0511951185856 0.0479168977899 87.4099224751\n"
     ]
    }
   ],
   "source": [
    "sigma_x0 = np.sqrt(cov_matrix[2, 2])\n",
    "sigma_y0 = np.sqrt(cov_matrix[3, 3])\n",
    "marg_cov = np.array([[cov_matrix[2, 2], cov_matrix[2, 3]], [cov_matrix[3, 2], cov_matrix[3, 3]]])\n",
    "vals, vecs = np.linalg.eigh(marg_cov)\n",
    "order = vals.argsort()[::-1]\n",
    "vecs = vecs[:,order]\n",
    "vals = vals[order]\n",
    "theta_angle = np.degrees(np.arctan2(*vecs[:,0][::-1]))\n",
    "width, height = 2.0 * np.sqrt(vals)\n",
    "fig, ax = plt.subplots()\n",
    "ellip = Ellipse(xy=(final_theta[2], final_theta[3]), width=width, height=height, angle=theta_angle, alpha=0.5)\n",
    "ax.add_artist(ellip)\n",
    "plt.xlim(final_theta[2]-1.5*width, final_theta[2]+1.5*width)\n",
    "plt.ylim(final_theta[3]-1.5*height, final_theta[3]+1.5*height)\n",
    "ax.set_aspect('equal')\n",
    "plt.xlabel(r'$x_0$')\n",
    "plt.ylabel(r'$y_0$')\n",
    "plt.title(r'$68 \\%$ Confidence Interval')\n",
    "plt.scatter(final_theta[2], final_theta[3], marker='o', color='k')\n",
    "plt.show()\n",
    "print(width, height, theta_angle)"
   ]
  },
  {
   "cell_type": "markdown",
   "metadata": {},
   "source": [
    "This is about $10\\%$ of a pixel width in uncertainty, which is possible because the Gaussian evaluated at different discrete pixels will still have distinguishable differences based on the centroid position within those pixels."
   ]
  }
 ],
 "metadata": {
  "kernelspec": {
   "display_name": "Python 3",
   "language": "python",
   "name": "python3"
  },
  "language_info": {
   "codemirror_mode": {
    "name": "ipython",
    "version": 3
   },
   "file_extension": ".py",
   "mimetype": "text/x-python",
   "name": "python",
   "nbconvert_exporter": "python",
   "pygments_lexer": "ipython3",
   "version": "3.5.5"
  }
 },
 "nbformat": 4,
 "nbformat_minor": 2
}
