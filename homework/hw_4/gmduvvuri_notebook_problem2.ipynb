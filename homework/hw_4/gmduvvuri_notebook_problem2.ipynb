{
 "cells": [
  {
   "cell_type": "code",
   "execution_count": 1,
   "metadata": {
    "collapsed": true,
    "inputHidden": false,
    "outputHidden": false
   },
   "outputs": [],
   "source": [
    "import numpy as np"
   ]
  },
  {
   "cell_type": "code",
   "execution_count": 2,
   "metadata": {
    "collapsed": true
   },
   "outputs": [],
   "source": [
    "def get_N_gaussian_samples(N, mu=0.0, var=1.0):\n",
    "    return np.random.normal(loc=mu, scale=np.sqrt(var), size=N)\n",
    "\n",
    "\n",
    "def get_sample_mean(sample_array):\n",
    "    return (1.0 / (len(sample_array))) * np.sum(sample_array)\n",
    "\n",
    "\n",
    "def get_sample_variance_known(sample_array, mu=0.0):\n",
    "    return (1.0 / (len(sample_array))) * np.sum((sample_array - mu)**2.0)\n",
    "\n",
    "\n",
    "def get_sample_variance_unknown(sample_array):\n",
    "    sample_mean = get_sample_mean(sample_array)\n",
    "    factor_1 = (1.0 / (len(sample_array) - 1.0))\n",
    "    return factor_1 * np.sum((sample_array - sample_mean)**2.0)\n",
    "\n",
    "\n",
    "def get_variance_sample_mean(sample_array, variance_array):\n",
    "    return variance_array / len(sample_array)\n",
    "\n",
    "\n",
    "def get_true_variance_sample_mean(sample_array, true_var=1.0):\n",
    "    return true_var / len(sample_array)\n",
    "\n",
    "\n",
    "def get_true_variance_sample_variance(sample_array,\n",
    "                                      true_mean=0.0, true_var=1.0):\n",
    "    factor_1 = 1 / (len(sample_array)**2.0)\n",
    "    temp_arr = (sample_array - true_mean)**4.0\n",
    "    factor_2 = np.sum(temp_arr) - true_var**4.0\n",
    "    return factor_1 * factor_2"
   ]
  },
  {
   "cell_type": "code",
   "execution_count": 3,
   "metadata": {
    "collapsed": true
   },
   "outputs": [],
   "source": [
    "def do_part_a(N=10, mu=0.0, var=1.0):\n",
    "    sample_array = get_N_gaussian_samples(N, mu, var)\n",
    "    sample_mean = get_sample_mean(sample_array)\n",
    "    sample_variance_known = get_sample_variance_known(sample_array, mu)\n",
    "    sample_variance_unknown = get_sample_variance_unknown(sample_array)\n",
    "    print('Sample mean = ', sample_mean)\n",
    "    print('Sample Variance with known mean: ', sample_variance_known)\n",
    "    print('Sample Variance with unknown mean:', sample_variance_unknown)\n",
    "    return [sample_array, sample_mean,\n",
    "            sample_variance_known, sample_variance_unknown]"
   ]
  },
  {
   "cell_type": "code",
   "execution_count": 4,
   "metadata": {
    "collapsed": true
   },
   "outputs": [],
   "source": [
    "def do_part_b(sample_array, true_mean=0.0, true_var=1.0):\n",
    "    variance_sample_mean = get_true_variance_sample_mean(sample_array,\n",
    "                                                         true_var)\n",
    "    variance_sample_variance = get_true_variance_sample_variance(sample_array,\n",
    "                                                                 true_mean,\n",
    "                                                                 true_var)\n",
    "    print('True Variance of sample mean: ', variance_sample_mean)\n",
    "    print('True Variance of sample variance with known mean: ',\n",
    "          variance_sample_variance)\n",
    "    return sample_array"
   ]
  },
  {
   "cell_type": "code",
   "execution_count": 5,
   "metadata": {
    "collapsed": true
   },
   "outputs": [],
   "source": [
    "def do_part_c(M=1000, N=10, mu=0.0, var=1.0):\n",
    "    all_sample_arrays = [get_N_gaussian_samples(N, mu, var)\n",
    "                         for i in range(0, M)]\n",
    "    all_sample_means = [get_sample_mean(sample_array)\n",
    "                        for sample_array in all_sample_arrays]\n",
    "    all_variances = [get_sample_variance_unknown(sample_array)\n",
    "                     for sample_array in all_sample_arrays]\n",
    "    all_mean_variance = [get_variance_sample_mean(all_sample_arrays[i],\n",
    "                                                  all_variances[i])\n",
    "                         for i in range(0, M)]\n",
    "    all_interval_test = [(((all_sample_means[i] -\n",
    "                            np.sqrt(all_mean_variance[i])) <= mu) &\n",
    "                          (mu <= (all_sample_means[i] +\n",
    "                                  np.sqrt(all_mean_variance[i]))))\n",
    "                         for i in range(0, M)]\n",
    "    success_rate = len(np.where(all_interval_test)[0]) / M\n",
    "    print('Fraction of times true mean is within sample interval: ',\n",
    "          success_rate)\n",
    "    return success_rate"
   ]
  },
  {
   "cell_type": "code",
   "execution_count": 6,
   "metadata": {},
   "outputs": [
    {
     "name": "stdout",
     "output_type": "stream",
     "text": [
      "Sample mean =  0.312334958199\n",
      "Sample Variance with known mean:  0.763197633216\n",
      "Sample Variance with unknown mean: 0.739605007892\n",
      "True Variance of sample mean:  0.1\n",
      "True Variance of sample variance with known mean:  0.126026143994\n",
      "Fraction of times true mean is within sample interval:  0.6564227\n"
     ]
    }
   ],
   "source": [
    "sample_array, _, _, _ = do_part_a()\n",
    "_ = do_part_b(np.array(sample_array))\n",
    "_ = do_part_c(M=int(1e7))"
   ]
  }
 ],
 "metadata": {
  "kernelspec": {
   "display_name": "Python 3",
   "language": "python",
   "name": "python3"
  },
  "language_info": {
   "codemirror_mode": {
    "name": "ipython",
    "version": 3
   },
   "file_extension": ".py",
   "mimetype": "text/x-python",
   "name": "python",
   "nbconvert_exporter": "python",
   "pygments_lexer": "ipython3",
   "version": "3.5.4"
  }
 },
 "nbformat": 4,
 "nbformat_minor": 4
}
