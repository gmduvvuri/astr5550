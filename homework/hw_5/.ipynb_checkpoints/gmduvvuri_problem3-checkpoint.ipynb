{
 "cells": [
  {
   "cell_type": "code",
   "execution_count": 1,
   "metadata": {
    "collapsed": true,
    "inputHidden": false,
    "outputHidden": false
   },
   "outputs": [],
   "source": [
    "import numpy as np\n",
    "import pandas as pd\n",
    "import matplotlib.pyplot as plt\n",
    "import seaborn as sns\n",
    "from scipy.stats import gaussian_kde\n",
    "sns.set_style('darkgrid')\n",
    "sns.set_context('talk')\n",
    "plt.rc('text', usetex=True)\n",
    "plt.rc('font', family='serif')"
   ]
  },
  {
   "cell_type": "code",
   "execution_count": 2,
   "metadata": {
    "collapsed": true
   },
   "outputs": [],
   "source": [
    "# Returns (2, N) floats drawn from a 2D uncorrelated Gaussian\n",
    "# with mean=(0.0, 0.0) , var=(1.0, 1.0)\n",
    "def get_N_gaussian_samples(N=20, mu=0.0, var=1.0):\n",
    "    return np.random.normal(loc=mu, scale=np.sqrt(var), size=(2, N))\n",
    "\n",
    "\n",
    "# Returns the Pearson product-moment correlation coefficient\n",
    "# assuming (2, N) structured sample array\n",
    "def get_r(sample_array):\n",
    "    numerator = np.sum((sample_array[0, :]\n",
    "                        - np.mean(sample_array[0, :]))\n",
    "                       *(sample_array[1, :]\n",
    "                         - np.mean(sample_array[1, :])))\n",
    "    denominator = np.sqrt(np.sum((sample_array[0, :]\n",
    "                                  - np.mean(sample_array[0, :]))**2.0)\n",
    "                          *np.sum((sample_array[1, :]\n",
    "                                   - np.mean(sample_array[1, :]))**2.0))\n",
    "    return numerator/denominator\n",
    "\n",
    "\n",
    "# Calculate r for M samples of shape (2, N)\n",
    "def do_M_r_samples(M, N=20, mu=0.0, var=1.0):\n",
    "    return np.array([get_r(get_N_gaussian_samples(N, mu, var))\n",
    "                     for i in range(0, M)])"
   ]
  },
  {
   "cell_type": "code",
   "execution_count": 3,
   "metadata": {},
   "outputs": [],
   "source": [
    "def do_part_a(M=100000, N=20, mu=0.0, var=1.0, test_loc=0.975):\n",
    "    r_array = do_M_r_samples(M, N, mu, var)\n",
    "    sorted_r = np.sort(r_array)\n",
    "    r_prob, prob_arr = np.unique(sorted_r, return_index=True) # Get CDF\n",
    "    prob_arr = prob_arr/np.max(prob_arr)\n",
    "    test_r = r_prob[np.where(prob_arr >= test_loc)][0] #Find where F(r) crosses test_loc\n",
    "\n",
    "    plt.hist(r_array, color='cornflowerblue', bins='auto')\n",
    "    plt.xlabel(r'$r$')\n",
    "    plt.suptitle(r'Histogram of $r$')\n",
    "    plt.show()\n",
    "    plt.clf()\n",
    "\n",
    "    plt.plot(r_prob, prob_arr, label=r'$F(r)$',\n",
    "             linestyle='-', color='cornflowerblue')\n",
    "    plt.axhline(test_loc, label=r'$F(r) =$' + str(test_loc),\n",
    "                linestyle=':', color='k')\n",
    "    plt.axvline(test_r, label=r'$r = $' + str(test_r),\n",
    "                linestyle='--', color='k')\n",
    "    plt.legend(bbox_to_anchor=(1.05, 1.0))\n",
    "    plt.ylabel(r'$F(r)$')\n",
    "    plt.xlabel(r'$r$')\n",
    "    plt.suptitle(r'Cumulative Distribution Function of $r$')\n",
    "    plt.show()\n",
    "    \n",
    "    print('The value of r for which F(r)=0.975 is: ', test_r)\n",
    "    return r_array"
   ]
  },
  {
   "cell_type": "code",
   "execution_count": null,
   "metadata": {},
   "outputs": [],
   "source": [
    "def get_data(fname='hw5.dat'):\n",
    "    return pd.read_csv(fname, delim_whitespace=True, names=['x', 'y'])\n",
    "\n",
    "def do_part_b(r_array, alpha_param=0.95):\n",
    "    hw_dat = get_data()\n",
    "    data_arr = np.empty((2, 20))\n",
    "    data_arr[0, :] = np.array(hw_dat['x'])\n",
    "    data_arr[1, :] = np.array(hw_dat['y'])\n",
    "    r_data = get_r(data_arr)\n",
    "\n",
    "    # Estimate PDF using Scipy Kernel Density Estimation\n",
    "    # KDE smooths data over a window to estimate the PDF\n",
    "    r_pdf = gaussian_kde(r_array) \n",
    "\n",
    "    x_axis = np.linspace(np.min(r_array), np.max(r_array), 5000)\n",
    "    y_axis = r_pdf.pdf(x_axis)\n",
    "    max_loc = np.argmax(y_axis)\n",
    "    integral_values = np.array([r_pdf.integrate_box(x_axis[max_loc - i],\n",
    "                                                    x_axis[max_loc + i])\n",
    "                                for i in range(0, int(len(x_axis)/5))])\n",
    "    r_bound = np.argmin(np.abs(integral_values - alpha_param))\n",
    "    r_low = x_axis[r_bound]\n",
    "    r_high = x_axis[r_bound + max_loc]\n",
    "\n",
    "    plt.plot(x_axis, y_axis,\n",
    "             linestyle='-', color='cornflowerblue', label=r'$P(r)$')\n",
    "    plt.axvline(r_data, label=r'$r$ of data', color='k')\n",
    "    plt.axvspan(r_low, r_high, color='g',\n",
    "                alpha=0.3,\n",
    "                label=r'Within $\\alpha$ = ' + str(alpha_param*100) + r'$\\%$ confidence')\n",
    "    plt.legend(bbox_to_anchor=(1.05, 0.5))\n",
    "    plt.ylabel(r'PDF$(r)$')\n",
    "    plt.xlabel(r'$r$')\n",
    "    plt.suptitle(r'Null Hypothesis Cannot Be Rejected with 95$\\%$ Confidence')\n",
    "    plt.show()\n",
    "    return r_low, r_high, x_axis, y_axis, r_pdf"
   ]
  },
  {
   "cell_type": "code",
   "execution_count": null,
   "metadata": {},
   "outputs": [],
   "source": [
    "r_array = do_part_a()\n",
    "r_low, r_high, x_axis, y_axis, r_pdf = do_part_b(r_array)"
   ]
  },
  {
   "cell_type": "code",
   "execution_count": null,
   "metadata": {},
   "outputs": [],
   "source": [
    "print(r_low, r_high)"
   ]
  },
  {
   "cell_type": "code",
   "execution_count": null,
   "metadata": {
    "collapsed": true
   },
   "outputs": [],
   "source": []
  }
 ],
 "metadata": {
  "kernelspec": {
   "display_name": "astroconda",
   "language": "python",
   "name": "astroconda"
  },
  "language_info": {
   "codemirror_mode": {
    "name": "ipython",
    "version": 3
   },
   "file_extension": ".py",
   "mimetype": "text/x-python",
   "name": "python",
   "nbconvert_exporter": "python",
   "pygments_lexer": "ipython3",
   "version": "3.5.4"
  }
 },
 "nbformat": 4,
 "nbformat_minor": 4
}
