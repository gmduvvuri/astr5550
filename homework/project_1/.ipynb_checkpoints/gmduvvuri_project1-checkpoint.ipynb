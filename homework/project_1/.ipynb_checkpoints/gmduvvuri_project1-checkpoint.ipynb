{
 "cells": [
  {
   "cell_type": "code",
   "execution_count": 1,
   "metadata": {},
   "outputs": [],
   "source": [
    "import numpy as np\n",
    "import matplotlib.pyplot as plt\n",
    "import seaborn as sns\n",
    "from astropy.io import fits\n",
    "from os import listdir as ls\n",
    "from scipy.stats import mode\n",
    "\n",
    "sns.set_context('talk')\n",
    "sns.set_style('darkgrid')"
   ]
  },
  {
   "cell_type": "code",
   "execution_count": 2,
   "metadata": {},
   "outputs": [],
   "source": [
    "# Return list of filenames\n",
    "# associated with a given string\n",
    "def read_filetype(file_str):\n",
    "    return [fname for fname in ls('.')\n",
    "            if (('fixed_header.fits' in fname)\n",
    "                & (file_str in fname))]\n",
    "\n",
    "# Creates list of filenames for\n",
    "# each image type\n",
    "bias_fnames = read_filetype('BIAS')\n",
    "dark_fnames = read_filetype('DARK')\n",
    "flat_fnames = read_filetype('FLAT')\n",
    "image_fnames = read_filetype('7')\n",
    "\n",
    "# Given a single fits filename\n",
    "# returns data of the fits file\n",
    "def read_fits(fits_fname):\n",
    "    return fits.open(fits_fname, uint=False)[0].data\n",
    "\n",
    "# Given a list of N fits filenames\n",
    "# with identical dimensions X, Y\n",
    "# returns a numpy array with shape\n",
    "# (N, X, Y) containing the data\n",
    "# of the fits files\n",
    "def make_fits_list_array(fits_list):\n",
    "    test_data = read_fits(fits_list[0])\n",
    "    (x_dim, y_dim) = np.shape(test_data)\n",
    "    n_files = len(fits_list)\n",
    "    all_array = np.empty((n_files, x_dim, y_dim))\n",
    "    for i in range(0, n_files):\n",
    "        all_array[i, :, :] = read_fits(fits_list[i])\n",
    "    return all_array\n",
    "\n",
    "\n",
    "# Creates arrays for each image type\n",
    "bias_all = make_fits_list_array(bias_fnames)\n",
    "dark_all = make_fits_list_array(dark_fnames)\n",
    "flat_all = make_fits_list_array(flat_fnames)\n",
    "image_all = make_fits_list_array(image_fnames)"
   ]
  },
  {
   "cell_type": "code",
   "execution_count": null,
   "metadata": {},
   "outputs": [],
   "source": [
    "# Create median dark+bias\n",
    "dark_median = np.median(dark_all, axis=0)\n",
    "bias_median = np.median(bias_all, axis=0)\n",
    "\n",
    "# Create median flat\n",
    "temp_flat = flat_all - bias_median\n",
    "flat_median = np.empty_like(temp_flat)\n",
    "for i in range(0, len(flat_fnames)):\n",
    "    flat_median[i, :, :] = temp_flat[i]/mode(temp_flat[i],\n",
    "                                             axis=None)[0][0]\n",
    "flat_median = np.median(flat_median, axis=0)\n",
    "\n",
    "# Create reduced science image\n",
    "image_temp = (image_all - dark_median)/flat_median\n",
    "image_median = np.median(image_temp, axis=0)"
   ]
  },
  {
   "cell_type": "code",
   "execution_count": null,
   "metadata": {},
   "outputs": [],
   "source": [
    "plt.rc('text', usetex=True)\n",
    "plt.rc('font', family='serif')\n",
    "\n",
    "ax = sns.heatmap(image_temp[0], cbar=True)\n",
    "plt.xlabel(r'$x$')\n",
    "plt.ylabel(r'$y$')\n",
    "plt.title('M57: Reduced Image')\n",
    "plt.show()"
   ]
  },
  {
   "cell_type": "code",
   "execution_count": null,
   "metadata": {},
   "outputs": [],
   "source": []
  }
 ],
 "metadata": {
  "kernelspec": {
   "display_name": "Python 3",
   "language": "python",
   "name": "python3"
  },
  "language_info": {
   "codemirror_mode": {
    "name": "ipython",
    "version": 3
   },
   "file_extension": ".py",
   "mimetype": "text/x-python",
   "name": "python",
   "nbconvert_exporter": "python",
   "pygments_lexer": "ipython3",
   "version": "3.5.5"
  }
 },
 "nbformat": 4,
 "nbformat_minor": 2
}
